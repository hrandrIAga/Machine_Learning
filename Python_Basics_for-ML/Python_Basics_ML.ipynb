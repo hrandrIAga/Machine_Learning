{
 "cells": [
  {
   "cell_type": "markdown",
   "metadata": {},
   "source": [
    "### **Python for Machine Learning**\n",
    "\n",
    "#### [*Machine learnia video 7/30* **PYTHON BUILD-IN FUNCTION**][1]\n",
    "\n",
    "\n",
    "##### **Exercice I :** *write a short algorithm that write on a .txt all i**2 from 0 to 10 on a list*\n",
    "\n",
    "[1]:https://www.youtube.com/watch?v=v7OTVy6whEY&list=PLO_fdPEVlfKqMDNmCFzQISI2H_nJcEDJq&index=7  "
   ]
  },
  {
   "cell_type": "code",
   "execution_count": 50,
   "metadata": {},
   "outputs": [],
   "source": [
    "with open('doc_for_ex9.txt', 'w') as f:\n",
    "    for i in range(11):\n",
    "        f.write('{} \\n'.format(i**2))"
   ]
  },
  {
   "cell_type": "markdown",
   "metadata": {},
   "source": [
    "##### **Exercice II :** *write a short algorithm that read each line of 'doc_for_ex9.txy' and store it in a list*\n"
   ]
  },
  {
   "cell_type": "code",
   "execution_count": 71,
   "metadata": {},
   "outputs": [
    {
     "data": {
      "text/plain": [
       "[0.0, 1.0, 4.0, 9.0, 16.0, 25.0, 36.0, 49.0, 64.0, 81.0, 100.0]"
      ]
     },
     "execution_count": 71,
     "metadata": {},
     "output_type": "execute_result"
    }
   ],
   "source": [
    "a=[]\n",
    "\n",
    "with open('doc_for_ex9.txt', 'r') as f_r:\n",
    "    for line in f_r:\n",
    "        a.append(float(line.strip()))\n",
    "\n",
    "a\n",
    "\n"
   ]
  },
  {
   "cell_type": "markdown",
   "metadata": {},
   "source": [
    "### **Python for Machine Learning**\n",
    "\n",
    "#### [*Machine learnia video 8/30* : **PYTHON MODULES AND PACKAGES**][1]\n",
    "\n",
    "\n",
    "##### **Exercice II :** *write a short algorithm that :*\n",
    "* _read the content of 'doc_for_ex9.txt' and store it in a relevant variable_\n",
    "* _read the content of 'doc_for_ex10.txt' and store it in a relevant variable_\n",
    "* _hint use dictionnary_\n",
    "\n",
    "[1]:https://www.youtube.com/watch?v=mSh4h-J0z1c&list=PLO_fdPEVlfKqMDNmCFzQISI2H_nJcEDJq&index=8"
   ]
  },
  {
   "cell_type": "code",
   "execution_count": 92,
   "metadata": {},
   "outputs": [
    {
     "name": "stdout",
     "output_type": "stream",
     "text": [
      "{'doc9_0 \\n': 0, 'doc9_1 \\n': 1, 'doc9_4 \\n': 4, 'doc9_9 \\n': 9, 'doc9_16 \\n': 16, 'doc9_25 \\n': 25, 'doc9_36 \\n': 36, 'doc9_49 \\n': 49, 'doc9_64 \\n': 64, 'doc9_81 \\n': 81, 'doc9_100 \\n': 100}\n",
      "{'doc10_Paris \\n': 'Paris', 'doc10_Marseille \\n': 'Marseille', 'doc10_Lyon \\n': 'Lyon', 'doc10_Nantes \\n': 'Nantes', 'doc10_Toulouse \\n': 'Toulouse', 'doc10_Nice \\n': 'Nice', 'doc10_Montpellier \\n': 'Montpellier', 'doc10_Strasbourg \\n': 'Strasbourg', 'doc10_Bordeaux \\n': 'Bordeaux', 'doc10_Lille \\n': 'Lille'}\n"
     ]
    }
   ],
   "source": [
    "# Create and fill 'doc_for_ex10.txt'\n",
    "biggest_french_town = ['Paris', 'Marseille', 'Lyon', 'Nantes', 'Toulouse', 'Nice', 'Montpellier', 'Strasbourg', 'Bordeaux', 'Lille']\n",
    "with open('doc_for_ex10.txt', 'w') as f:\n",
    "    for i in range(len(biggest_french_town)):\n",
    "        f.write('{} \\n'.format(biggest_french_town[i]))\n",
    "\n",
    "# Store elements from 'doc_for_ex9.txt'\n",
    "\n",
    "dico9 = {}\n",
    "with open('doc_for_ex9.txt', 'r') as f_r:\n",
    "    for line in f_r:\n",
    "        dico9['doc9_{}'.format(line)] = int(line.strip())\n",
    "\n",
    " # Store elements from 'doc_for_ex10.txt'\n",
    "\n",
    "dico10 = {}\n",
    "with open('doc_for_ex10.txt', 'r') as f_r10:\n",
    "    for line in f_r10:\n",
    "        dico10['doc10_{}'.format(line)] = line.strip() \n",
    "    \n",
    "\n",
    "\n",
    "print(dico9)\n",
    "print(dico10)\n"
   ]
  }
 ],
 "metadata": {
  "kernelspec": {
   "display_name": "Python 3.9.7 ('base')",
   "language": "python",
   "name": "python3"
  },
  "language_info": {
   "codemirror_mode": {
    "name": "ipython",
    "version": 3
   },
   "file_extension": ".py",
   "mimetype": "text/x-python",
   "name": "python",
   "nbconvert_exporter": "python",
   "pygments_lexer": "ipython3",
   "version": "3.9.7"
  },
  "orig_nbformat": 4,
  "vscode": {
   "interpreter": {
    "hash": "73274d5495248ea4d02a1e1c124277da147986065e37e95fa583d7a7fdc869cc"
   }
  }
 },
 "nbformat": 4,
 "nbformat_minor": 2
}
