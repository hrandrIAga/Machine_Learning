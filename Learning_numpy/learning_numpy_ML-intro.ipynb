{
 "cells": [
  {
   "cell_type": "markdown",
   "metadata": {},
   "source": [
    "### **Python for Machine Learning**\n",
    "\n",
    "#### [*Machine learnia video 10/30* **numpy and Machine Learning**][1]\n",
    "\n",
    "\n",
    "[1]:https://www.youtube.com/watch?v=NzDQTrqsxas&list=PLO_fdPEVlfKqMDNmCFzQISI2H_nJcEDJq&index=10"
   ]
  },
  {
   "cell_type": "markdown",
   "metadata": {},
   "source": [
    "#### **A. Dimension and shape :**"
   ]
  },
  {
   "cell_type": "code",
   "execution_count": null,
   "metadata": {},
   "outputs": [],
   "source": [
    "# dim = number of dimension\n",
    "# shape = number of element in each dimension\n",
    "import numpy as np\n",
    "\n",
    "print(np.random.randint(0,5,(2))) #dim = 1 # shape = 2\n",
    "print(np.random.randint(0,5,(2,3))) #dim = 2 # shape = (2,3) \n",
    "print(np.random.randint(0,5,(2,3,2))) #dim = 3  # shape = (2,3,4)"
   ]
  },
  {
   "cell_type": "markdown",
   "metadata": {},
   "source": [
    "#### **B. Basic method to build matrix :**"
   ]
  },
  {
   "cell_type": "code",
   "execution_count": null,
   "metadata": {},
   "outputs": [],
   "source": [
    "# build definite small matrix\n",
    "B = np.array([1,2,3])\n",
    "print(B.ndim)        #number of dimension\n",
    "print(B.shape[0])    #shape\n",
    "print(np.size(B))    #numer of elements\n",
    "\n",
    "#Build a Zero matrix np.zeros((shape))\n",
    "B0 = np.zeros((3,2))\n",
    "print(B0)\n",
    "print(B0.ndim)\n",
    "print(B0.shape)\n",
    "print(B0.size)\n",
    "\n",
    "#Build a 1 matrix np.ones((shape))\n",
    "B1 = np.ones((3,2))\n",
    "print(B1)\n",
    "print(B1.ndim)\n",
    "print(B1.shape)\n",
    "print(np.size(B1))\n",
    "\n",
    "#Build a k matrix np.full((shape),value of k)\n",
    "Bk = np.full((3,2),9)\n",
    "print(Bk)\n",
    "print(Bk.ndim)\n",
    "print(Bk.shape)\n",
    "print(Bk.size)\n",
    "\n",
    "#Build an Identity matrix np.eye(number of columns)"
   ]
  },
  {
   "cell_type": "markdown",
   "metadata": {},
   "source": [
    "#### **C. Build a matrix with random elements :**"
   ]
  },
  {
   "cell_type": "code",
   "execution_count": null,
   "metadata": {},
   "outputs": [],
   "source": [
    "# most used is randn(shape) : Generate a matrix with random elements from a Normal distribution\n",
    "C = np.random.randn(4,4)\n",
    "C\n"
   ]
  },
  {
   "cell_type": "markdown",
   "metadata": {},
   "source": [
    "#### **D. linspace and arange :**"
   ]
  },
  {
   "cell_type": "code",
   "execution_count": null,
   "metadata": {},
   "outputs": [],
   "source": [
    "# np.linspace(start, end], number of elements)\n",
    "D1 = np.linspace(0,10,11)\n",
    "print(D1)\n",
    "\n",
    "# np.arange(start, end[, step)\n",
    "D2 = np.arange(0,10,2)\n",
    "print(D2)"
   ]
  },
  {
   "cell_type": "markdown",
   "metadata": {},
   "source": [
    "#### **E. Arrays manipulation:**"
   ]
  },
  {
   "cell_type": "code",
   "execution_count": null,
   "metadata": {},
   "outputs": [],
   "source": [
    "E1 = np.random.randint(1,10,(3,2))\n",
    "E2 = np.random.randint(1,10,(3,2))\n",
    "\n",
    "# vertical concatenation : np.concatenate((matrix1,matrixB,..,matrixN), axis = 0)\n",
    "print(np.concatenate((E1,E2), axis = 0), '\\n')\n",
    "print(np.concatenate((E2,E1), axis = 0), '\\n')\n",
    "\n",
    "# horizontal concatenation : np.concatenate((matrix1,matrixB,...,matrixN), axis = 1)\n",
    "print(np.concatenate((E1,E2), axis = 1) ,'\\n')\n",
    "print(np.concatenate((E2,E1), axis = 1), '\\n')\n",
    "\n",
    "#concatenation dim >1 : np.concateante((matrix1,matrixB,...MatrixN) axis = k))\n"
   ]
  },
  {
   "cell_type": "markdown",
   "metadata": {},
   "source": [
    "#### **F. Reshape and squeeze:**"
   ]
  },
  {
   "cell_type": "code",
   "execution_count": null,
   "metadata": {},
   "outputs": [],
   "source": [
    "# rehape a matrix (ifthe result matrix have the same number of elements (ie. smae size) than the original matrix\n",
    "\n",
    "F = np.random.randint(0,10,(4,5))\n",
    "print(F)\n",
    "F.size\n",
    "\n",
    "Frs = F.reshape((2,10))\n",
    "Frs.size\n",
    "print(Frs)\n",
    "\n",
    "# useful for one dimension array\n",
    "\n",
    "F2 = np.array([0,1,2])\n",
    "print(F2.shape) #return (3,) sometimes need (3,1) to manipualte the data correctly\n",
    "F2.shape = (F2.shape[0],1)\n",
    "print(F2.shape)\n",
    "\n",
    "#to get (3,) instead of (3,1) for graph and plot\n",
    "F3 = F2.squeeze() #squeeze all shape =1\n",
    "F3.shape\n",
    "\n"
   ]
  },
  {
   "cell_type": "markdown",
   "metadata": {},
   "source": [
    "#### **Exercise :**\n",
    "\n",
    "* _write a function initialisation(m,n) that return an (m,n+1) random matrix_\n",
    "* _with a biased column (n+1 colum full of 1)_"
   ]
  },
  {
   "cell_type": "code",
   "execution_count": 101,
   "metadata": {},
   "outputs": [
    {
     "name": "stdout",
     "output_type": "stream",
     "text": [
      "7 4\n",
      "[[-0.27319901 -1.05975545  0.14363544 -0.25417261  1.        ]\n",
      " [-1.29777474  0.65028135 -0.37960598 -1.31356125  1.        ]\n",
      " [ 0.57992605 -2.17338026 -0.98541666  2.46849025  1.        ]\n",
      " [ 1.10154274 -0.83589014 -0.86599878 -0.92007674  1.        ]\n",
      " [-0.11384074 -0.40784179 -0.78853723  0.74678508  1.        ]\n",
      " [-0.26187206  1.46475401 -0.83686494 -0.25510859  1.        ]\n",
      " [-0.3066952   0.69904314  0.86306824 -0.95250984  1.        ]]\n"
     ]
    }
   ],
   "source": [
    "\n",
    "def initialisation(m,n):\n",
    "    M = np.random.randn(m,n+1)\n",
    "    for i in range(m):\n",
    "        M[i,n]=1\n",
    "    print(M)\n",
    "\n",
    "m = randint(1,10)\n",
    "n = randint(1,5)\n",
    "print(m,n)\n",
    "initialisation(m,n)"
   ]
  }
 ],
 "metadata": {
  "kernelspec": {
   "display_name": "Python 3.9.7 ('base')",
   "language": "python",
   "name": "python3"
  },
  "language_info": {
   "codemirror_mode": {
    "name": "ipython",
    "version": 3
   },
   "file_extension": ".py",
   "mimetype": "text/x-python",
   "name": "python",
   "nbconvert_exporter": "python",
   "pygments_lexer": "ipython3",
   "version": "3.9.7"
  },
  "orig_nbformat": 4,
  "vscode": {
   "interpreter": {
    "hash": "73274d5495248ea4d02a1e1c124277da147986065e37e95fa583d7a7fdc869cc"
   }
  }
 },
 "nbformat": 4,
 "nbformat_minor": 2
}
