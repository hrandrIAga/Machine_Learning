{
 "cells": [
  {
   "cell_type": "markdown",
   "metadata": {},
   "source": [
    "### **Python for Machine Learning**\n",
    "\n",
    "#### [*Machine learnia video 14/30* **Matplotlib Basics**][1]\n",
    "\n",
    "##### **Introduction :**\n",
    "> There are 2 distinct methods to plot graphs with matplotlib :\n",
    "* _Object oriented development method (*not handled here to prevent cconfusion*)\n",
    "* _Pyplot method_  \n",
    "\n",
    "> Many ML developpers struggle with their model because they are confused inbetween those methods  \n",
    "> COnsequently errors, bugs in the graphs occurs and data modelization become irrelevant\n",
    "\n",
    "[1]:https://www.youtube.com/watch?v=O_OeWxpnUc0&list=PLO_fdPEVlfKqMDNmCFzQISI2H_nJcEDJq&index=14"
   ]
  },
  {
   "cell_type": "markdown",
   "metadata": {},
   "source": [
    "##### **Pyplot method :**"
   ]
  },
  {
   "cell_type": "code",
   "execution_count": null,
   "metadata": {},
   "outputs": [],
   "source": [
    "import matplotlib.pyplot as plt\n",
    "import numpy as np\n",
    "\n",
    "#Plot the graph of y=x**3 for x [1,10]\n",
    "x = np.arange(1,10,0.5)\n",
    "y = x**3\n",
    "\n",
    "plt.plot(x,y) # x and y have the same dimensions !!\n",
    "plt.show\n",
    "\n",
    "plt.scatter(x,y) #to get a scatter plot\n",
    "plt.show()"
   ]
  },
  {
   "cell_type": "code",
   "execution_count": null,
   "metadata": {},
   "outputs": [],
   "source": [
    "# custom the graph\n",
    "# plot (x,y, c=(color), lw=k<=line widh>, ls='lineshape')\n",
    "import matplotlib.pyplot as plt\n",
    "import numpy as np\n",
    "\n",
    "#Plot the graph of y=x**3 for x [1,10]\n",
    "x = np.arange(1,10,0.5)\n",
    "y = np.sqrt(x)\n",
    "\n",
    "plt.plot(x,y,c='red',lw=4,ls='--') # x and y have the same dimensions !!\n",
    "plt.show\n",
    "\n",
    "plt.scatter(x,y)\n",
    "plt.show()\n"
   ]
  },
  {
   "cell_type": "code",
   "execution_count": null,
   "metadata": {},
   "outputs": [],
   "source": [
    "#custom the figure\n",
    "\n",
    "plt.figure(2) #in argument, add a new number to get a new figure (or an existing one if layering is wanted)\n",
    "plt.plot(x, 6*x, label='linear')\n",
    "plt.plot(x,x**2, label='quadratic')\n",
    "plt.title('Comparison') # add a title\n",
    "plt.xlabel('x axis') # name the x axis\n",
    "plt.ylabel('y axis') # name the y axiq\n",
    "plt.legend() #add a legend\n",
    "plt.show() # print \n",
    "#plt.savefig(name.<png or pdf,...>) to save the figure"
   ]
  },
  {
   "cell_type": "code",
   "execution_count": null,
   "metadata": {},
   "outputs": [],
   "source": [
    "# to create an 'array' of graph : subplot()\n",
    "#plt.Subplot(row,column,positon)\n",
    "\n",
    "for i in range(3):\n",
    "    for j in range(3):\n",
    "        plt.subplot(3,3,i+j+1)\n",
    "        plt.plot(x,(i+1)*x**2+(j+1)*x+5)\n",
    "        plt.title('a={} b={}'.format(i+1,j+1))\n",
    "plt.show()"
   ]
  },
  {
   "cell_type": "markdown",
   "metadata": {},
   "source": [
    "##### **Exercise :**\n",
    "* show on one and only figure, n graphs (one per experiment)  \n",
    "* from the data set = {f\"experiment{i}\": np.random.randn(m) for i in range(n)}"
   ]
  },
  {
   "cell_type": "code",
   "execution_count": 49,
   "metadata": {},
   "outputs": [
    {
     "data": {
      "image/png": "[encoded data removed]",
      "text/plain": [
       "<Figure size 640x480 with 1 Axes>"
      ]
     },
     "metadata": {},
     "output_type": "display_data"
    }
   ],
   "source": [
    "import matplotlib.pyplot as plt\n",
    "import numpy as np\n",
    "\n",
    "x=np.arange(0,100,1)\n",
    "dataset = {f\"experiment{i}\" : np.random.randn(100) for i in range(4)}\n",
    "\n",
    "def graphique(data):\n",
    "    for j in range(len(data)):\n",
    "        plt.subplot(len(data),1,i+1)\n",
    "        plt.plot(0.5,0.4,0.8,0.9)\n",
    "        plt.title(\"experiment{}\".format(i))\n",
    "        plt.show\n",
    "\n",
    "graphique(dataset)"
   ]
  }
 ],
 "metadata": {
  "kernelspec": {
   "display_name": "Python 3.9.5 ('base')",
   "language": "python",
   "name": "python3"
  },
  "language_info": {
   "codemirror_mode": {
    "name": "ipython",
    "version": 3
   },
   "file_extension": ".py",
   "mimetype": "text/x-python",
   "name": "python",
   "nbconvert_exporter": "python",
   "pygments_lexer": "ipython3",
   "version": "3.9.5"
  },
  "orig_nbformat": 4,
  "vscode": {
   "interpreter": {
    "hash": "e2623250f4ddca715f01988e82d394f01357b3d14caaacca1361b1bbb8cfa308"
   }
  }
 },
 "nbformat": 4,
 "nbformat_minor": 2
}
