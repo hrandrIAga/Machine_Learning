{
 "cells": [
  {
   "cell_type": "markdown",
   "metadata": {},
   "source": [
    "### **Python for Machine Learning**\n",
    "\n",
    "#### [*Machine learnia video 12/30* **numpy Statistics and mathematics**][1]\n",
    "\n",
    "\n",
    "[1]:https://www.youtube.com/watch?v=RwFiNlL4Q8g&list=PLO_fdPEVlfKqMDNmCFzQISI2H_nJcEDJq&index=13"
   ]
  },
  {
   "cell_type": "markdown",
   "metadata": {},
   "source": [
    "##### **A. Classic methods with n dimensions array (.ndArray):** \n"
   ]
  },
  {
   "cell_type": "code",
   "execution_count": null,
   "metadata": {},
   "outputs": [],
   "source": [
    "import numpy as np\n",
    "\n",
    "# to sum all the (random) elements of an array (all axis)\n",
    "A = np.random.randint(0,10,[10,10])\n",
    "\n",
    "# to get a list, that print the sum of each column (ie. axis=0)\n",
    "A.sum(axis=0)\n",
    "\n",
    "# to get a list, that print the sum of each row (ie. axis=1)\n",
    "A.sum(axis=1)"
   ]
  },
  {
   "cell_type": "code",
   "execution_count": null,
   "metadata": {},
   "outputs": [],
   "source": [
    "# Other classic operations of ndArray with axis as an argument :\n",
    "print(A.prod(axis=0))        #product\n",
    "print(A.cumsum(axis=0))      #cumulated sum\n",
    "print(A.cumprod(axis=0))     #cumulated product\n",
    "\n",
    "print(A.min(axis=0))         #minimum   \n",
    "print(A.max(axis=0))         #max\n",
    "print(A.argmin(axis=0))      #index of the minimum in this axis\n",
    "print(A.argmax(axis=0))      #index of the maximum in this axis\n",
    "\n",
    "print(A.sort(axis=0))        #sort each column in order\n",
    "print(A.argsort())     #print the sorted index of original A elements"
   ]
  },
  {
   "cell_type": "markdown",
   "metadata": {},
   "source": [
    "##### **B. Basic Statistics with numpy :** \n"
   ]
  },
  {
   "cell_type": "code",
   "execution_count": null,
   "metadata": {},
   "outputs": [],
   "source": [
    "print(A.min(axis=0))         #minimum   \n",
    "print(A.max(axis=0))         #max\n",
    "print(A.argmin(axis=0))      #index of the minimum in this axis\n",
    "print(A.argmax(axis=0))      #index of the maximum in this axis"
   ]
  },
  {
   "cell_type": "code",
   "execution_count": null,
   "metadata": {},
   "outputs": [],
   "source": [
    "A.mean(axis=1) #the mean of an axis (no argument = the mean of 1)"
   ]
  },
  {
   "cell_type": "code",
   "execution_count": null,
   "metadata": {},
   "outputs": [],
   "source": [
    "A.var(axis=1)  #the variance of an axis (no argument = the mean of 1)"
   ]
  },
  {
   "cell_type": "code",
   "execution_count": null,
   "metadata": {},
   "outputs": [],
   "source": [
    "A.std(axis=1)  #the standard deviation of an axis (no argument = the mean of 1)"
   ]
  },
  {
   "cell_type": "markdown",
   "metadata": {},
   "source": [
    "##### **C. More advanced Statistics correlation with numpy :**"
   ]
  },
  {
   "cell_type": "code",
   "execution_count": 33,
   "metadata": {},
   "outputs": [
    {
     "name": "stdout",
     "output_type": "stream",
     "text": [
      "0.2773500981126145\n"
     ]
    }
   ],
   "source": [
    "#modelize the correlating relationships within A columns and row, or with rther arrays\n",
    "np.corrcoef(A) \n",
    "\n",
    "# correlation between [L1/L1] [L1/L2] [...] [L1/Ln-1] [L1/Ln]\n",
    "#                     [L2/L1]\n",
    "#                     [...]            [Li/Li]\n",
    "#                     [Ln-1/L1]\n",
    "#                     [Ln/L1]                          [Ln/Ln]\n",
    "\n",
    "#Indexing to get a particular correlation\n",
    "\n",
    "b = np.corrcoef(A)[2,0] # or np.corrcoef(A)[2,0]\n",
    "print(b)"
   ]
  },
  {
   "cell_type": "code",
   "execution_count": null,
   "metadata": {},
   "outputs": [],
   "source": [
    "# get a list with all the (different) values in the array (sorted)\n",
    "# get the count of each of those values in the array\n",
    "\n",
    "np.unique(A, return_counts=True)"
   ]
  },
  {
   "cell_type": "markdown",
   "metadata": {},
   "source": [
    "##### **D. Deal with NAN :**"
   ]
  },
  {
   "cell_type": "code",
   "execution_count": null,
   "metadata": {},
   "outputs": [],
   "source": [
    "\n",
    "print(np.nanmean(A))  #np.nan<method_name>(array) --> return the method's result without taking into account nans\n",
    "print(np.isnan(A))    #return a mask with True if there is a nan at this index\n",
    "print(np.isnan(A).sum()) #counts the nan in the array (because True=1 False =0)\n",
    "\n",
    "np.isnan(A).sum/A.size #return the ratio of nan on the array\n",
    "\n",
    "A[np.isnan(A)] = 0 #replace all the nan by 0"
   ]
  },
  {
   "cell_type": "markdown",
   "metadata": {},
   "source": [
    "##### **E. Linear Algebra with numpy (numpy.linalg):**"
   ]
  },
  {
   "cell_type": "code",
   "execution_count": null,
   "metadata": {},
   "outputs": [],
   "source": [
    "#Transpose\n",
    "\n",
    "A = np.array([[1, 2, 3],[4,5,6]])\n",
    "print(A)\n",
    "A.T #return A transpose"
   ]
  },
  {
   "cell_type": "code",
   "execution_count": null,
   "metadata": {},
   "outputs": [],
   "source": [
    "#product of matrix\n",
    "\n",
    "B = A.T + np.ones((3,2))\n",
    "\n",
    "print(A.dot(B)) #product of matrix A and matrix B\n",
    "print(B.dot(A)) #product of matrix B and matrix A"
   ]
  },
  {
   "cell_type": "code",
   "execution_count": null,
   "metadata": {},
   "outputs": [],
   "source": [
    "# compute a determinant\n",
    "\n",
    "A = np.random.randint(0,10,(4,4))\n",
    "print(A)\n",
    "np.linalg.det(A)  #if det != 0, A^-1 exist\n",
    "\n",
    "np.linalg.inv(A)  #= A^-1"
   ]
  },
  {
   "cell_type": "code",
   "execution_count": null,
   "metadata": {},
   "outputs": [],
   "source": [
    "# get the eigen values of A (first array) get the eigen vectors (second array) associated to the eigen values \n",
    "np.linalg.eig(A)"
   ]
  },
  {
   "cell_type": "markdown",
   "metadata": {},
   "source": [
    "##### **Exercise :**\n",
    "* _standardize each column of A (Z-score Normalization **(A - A.mean)/A.std**)_ \n",
    "* _with the matrix A given by_\n",
    ">_np.random.seed(0)_  \n",
    ">_A = np.random.randint(0,100, [10,5])_\n"
   ]
  },
  {
   "cell_type": "code",
   "execution_count": 115,
   "metadata": {},
   "outputs": [
    {
     "name": "stdout",
     "output_type": "stream",
     "text": [
      "[[-0.02206157  0.          0.13173823  0.7253925   0.10755797]\n",
      " [-1.5663712   1.6157963  -1.4867601  -0.3303431   0.9680218 ]\n",
      " [ 1.1251398   1.8402126   1.0350862  -1.1476868  -0.27965075]\n",
      " [ 0.9045242  -0.35906586  0.99744666  0.01021677  1.011045  ]\n",
      " [ 1.6104944  -0.44883233 -1.3362021   1.0659523   0.32267392]\n",
      " [-1.5663712  -1.2118473   0.73397017  0.7935045   0.6238363 ]\n",
      " [ 0.11030783  0.763015    0.80924916  1.8151841   1.011045  ]\n",
      " [ 0.1985541  -0.80789816 -1.5620391  -0.90929484 -2.172671  ]\n",
      " [-0.24267723 -0.67324847  0.16937773 -1.2498547  -0.32267392]\n",
      " [-0.5515391  -0.7181317   0.50813323 -0.77307093 -1.2691841 ]]\n",
      "[[-0.02206157  0.          0.13173823  0.72539252  0.10755798]\n",
      " [-1.56637126  1.61579632 -1.48676006 -0.33034307  0.96802178]\n",
      " [ 1.12513992  1.84021247  1.03508612 -1.14768676 -0.27965074]\n",
      " [ 0.90452425 -0.35906585  0.99744662  0.0102168   1.01104497]\n",
      " [ 1.6104944  -0.44883231 -1.33620208  1.0659524   0.32267393]\n",
      " [-1.56637126 -1.21184724  0.73397016  0.7935045   0.62383626]\n",
      " [ 0.11030784  0.76301493  0.80924915  1.81518411  1.01104497]\n",
      " [ 0.1985541  -0.80789816 -1.56203905 -0.90929485 -2.17267111]\n",
      " [-0.24267724 -0.67324847  0.16937773 -1.24985473 -0.32267393]\n",
      " [-0.55153918 -0.7181317   0.50813319 -0.77307091 -1.26918412]]\n"
     ]
    }
   ],
   "source": [
    "np.random.seed(0)\n",
    "A = np.random.randint(0,100,[10,5])\n",
    "\n",
    "#My method\n",
    "A_float = A.astype(np.float32) #change A into a float array\n",
    "\n",
    "for i in range(5): # Compute the final matrix\n",
    "    A_float[:,i]=np.float_((A_float[:,i]-A_float[:,i].mean())/A_float[:,i].std())\n",
    "print(A_float)\n",
    "\n",
    "\n",
    "#Better method (from correction)\n",
    "print((A-A.mean(axis=0))/A.std(axis=0))\n",
    "\n"
   ]
  },
  {
   "cell_type": "code",
   "execution_count": null,
   "metadata": {},
   "outputs": [],
   "source": []
  }
 ],
 "metadata": {
  "kernelspec": {
   "display_name": "Python 3.9.7 ('base')",
   "language": "python",
   "name": "python3"
  },
  "language_info": {
   "codemirror_mode": {
    "name": "ipython",
    "version": 3
   },
   "file_extension": ".py",
   "mimetype": "text/x-python",
   "name": "python",
   "nbconvert_exporter": "python",
   "pygments_lexer": "ipython3",
   "version": "3.9.7"
  },
  "orig_nbformat": 4,
  "vscode": {
   "interpreter": {
    "hash": "73274d5495248ea4d02a1e1c124277da147986065e37e95fa583d7a7fdc869cc"
   }
  }
 },
 "nbformat": 4,
 "nbformat_minor": 2
}
